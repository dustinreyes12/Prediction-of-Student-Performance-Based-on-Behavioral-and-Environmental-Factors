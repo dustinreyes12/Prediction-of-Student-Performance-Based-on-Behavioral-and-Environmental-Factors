{
 "cells": [
  {
   "cell_type": "markdown",
   "metadata": {},
   "source": [
    "# Prediction of Student's Performance Based on Behavioral and Environmental Factors\n",
    "### By Dustin Reyes\n",
    "### Highlights: \n",
    "* Classifying/Predicting the students' final grades based on social and environmental factors\n",
    "* Introduction and usecase of the AdaBoost classifier\n",
    "* Machine Learning model with 87.35% test accuracy was achieved through Gradient Boosting method\n",
    "* Previous Grade is the top predictor in classifying a student's performance of whether poor, fair or good\n",
    "* Other factors were the number of failures and the number of absences.\n",
    "\n",
    "### Data Source: https://www.kaggle.com/uciml/student-alcohol-consumption"
   ]
  },
  {
   "cell_type": "markdown",
   "metadata": {},
   "source": [
    "# 1. Executive Summary"
   ]
  },
  {
   "cell_type": "markdown",
   "metadata": {},
   "source": [
    "The purpose of this notebook is to predict and classify a student's final grade based on behavioral and environmental factors. The goal is to predict whether the student will have a poor, fair or a good rating on his/her final grade. The notebook also aims to answer the question of what are the factors that can affect a student's performance. In doing the study, several machine learning algorithms were implemented and the algorithm which performed the best was chosen. The Gradient Boosting Classifier algorithm was chosen for this study with a test accuracy of 87.35%. With this, several insights can be deduced which are the ff:\n",
    "* A student's previous grade has the most effect on his/her future performance\n",
    "* The record of absences and failures are seen as contributors to a student's academic performance\n",
    "* Other factors which can affect a student were the mother's educational background, health conditions, age and weekend alcohol consumption\n",
    "\n",
    "With these insights, we can still try to resolve some of the bad habits that has negative effects to his/her behavior. By preventing the development of these bad habits and the degradation of grades, we can hope to improve our child's school performance thus enhacing their mental capabilities which can lead to optimum learning in class."
   ]
  },
  {
   "cell_type": "markdown",
   "metadata": {},
   "source": [
    "# 2. Data Description"
   ]
  },
  {
   "cell_type": "markdown",
   "metadata": {},
   "source": [
    "Raising an achiever. One of the most challenging tasks that parents must do and must prepare for. It is a responsibility wherein parents must guide their children over the course of their learning phase in life. We all knew that education is an important privilege imparted by parents to their child as it can help the latter to prepare for their career and adulthood. With this, a child's behavior and habits during his/her days as a student can have an impact on his/her academic performance. Other factors which can affect the performance of a student are internet accessibility, area of living, romantic affiliations, extra-curricular activities, health and so on and so forth. \n",
    "\n",
    "The data used for this study was taken from https://www.kaggle.com/uciml/student-alcohol-consumption which was obtained in a survey of student's math and portuguese language courses in secondary school. The attributes of the data are the ff:\n",
    "\n",
    "* **school** - student's school (binary: 'GP' - Gabriel Pereira or 'MS' - Mousinho da Silveira)\n",
    "* **sex** - student's sex (binary: 'F' - female or 'M' - male)\n",
    "* **age** - student's age (numeric: from 15 to 22)\n",
    "* **address** - student's home address type (binary: 'U' - urban or 'R' - rural)\n",
    "* **famsize** - family size (binary: 'LE3' - less or equal to 3 or 'GT3' - greater than 3)\n",
    "* **Pstatus** - parent's cohabitation status (binary: 'T' - living together or 'A' - apart)\n",
    "* **Medu** - mother's education (numeric: 0 - none, 1 - primary education (4th grade), 2 – 5th to 9th grade, 3 – secondary education or 4 – higher education)\n",
    "* **Fedu** - father's education (numeric: 0 - none, 1 - primary education (4th grade), 2 – 5th to 9th grade, 3 – secondary education or 4 – higher education)\n",
    "* **Mjob** - mother's job (nominal: 'teacher', 'health' care related, civil 'services' (e.g. administrative or police), 'at_home' or 'other')\n",
    "* **Fjob** - father's job (nominal: 'teacher', 'health' care related, civil 'services' (e.g. administrative or police), 'at_home' or 'other')\n",
    "* **reason** - reason to choose this school (nominal: close to 'home', school 'reputation', 'course' preference or 'other')\n",
    "* **guardian** - student's guardian (nominal: 'mother', 'father' or 'other')\n",
    "* **traveltime** - home to school travel time (numeric: 1 - <15 min., 2 - 15 to 30 min., 3 - 30 min. to 1 hour, or 4 - >1 hour)\n",
    "* **studytime** - weekly study time (numeric: 1 - <2 hours, 2 - 2 to 5 hours, 3 - 5 to 10 hours, or 4 - >10 hours)\n",
    "* **failures** - number of past class failures (numeric: n if 1<=n<3, else 4)\n",
    "* **schoolsup** - extra educational support (binary: yes or no)\n",
    "* **famsup** - family educational support (binary: yes or no)\n",
    "* **paid** - extra paid classes within the course subject (Math or Portuguese) (binary: yes or no)\n",
    "* **activities** - extra-curricular activities (binary: yes or no)\n",
    "* **nursery** - attended nursery school (binary: yes or no)\n",
    "* **higher** - wants to take higher education (binary: yes or no)\n",
    "* **internet** - Internet access at home (binary: yes or no)\n",
    "* **romantic** - with a romantic relationship (binary: yes or no)\n",
    "* **famrel** - quality of family relationships (numeric: from 1 - very bad to 5 - excellent)\n",
    "* **freetime** - free time after school (numeric: from 1 - very low to 5 - very high)\n",
    "* **goout** - going out with friends (numeric: from 1 - very low to 5 - very high)\n",
    "* **Dalc** - workday alcohol consumption (numeric: from 1 - very low to 5 - very high)\n",
    "* **Walc** - weekend alcohol consumption (numeric: from 1 - very low to 5 - very high)\n",
    "* **health** - current health status (numeric: from 1 - very bad to 5 - very good)\n",
    "* **absences** - number of school absences (numeric: from 0 to 93)\n",
    "* **G1** - first period grade (numeric: from 0 to 20)\n",
    "* **G2** - second period grade (numeric: from 0 to 20)\n",
    "* **G3** - final grade (numeric: from 0 to 20, output target)"
   ]
  },
  {
   "cell_type": "code",
   "execution_count": 21,
   "metadata": {
    "ExecuteTime": {
     "end_time": "2019-11-23T15:50:06.478014Z",
     "start_time": "2019-11-23T15:50:06.455442Z"
    }
   },
   "outputs": [],
   "source": [
    "import warnings\n",
    "import numpy as np\n",
    "import pandas as pd\n",
    "import matplotlib.pyplot as plt\n",
    "import seaborn as sns\n",
    "import statsmodels.api as sm\n",
    "from sklearn.preprocessing import MinMaxScaler\n",
    "from sklearn.preprocessing import StandardScaler\n",
    "from sklearn.neighbors import KNeighborsClassifier\n",
    "from sklearn.tree import DecisionTreeClassifier\n",
    "from sklearn.linear_model import LogisticRegression\n",
    "from sklearn.svm import LinearSVC\n",
    "from sklearn.svm import SVC\n",
    "from sklearn.model_selection import train_test_split\n",
    "from sklearn.model_selection import GridSearchCV\n",
    "from sklearn.preprocessing import LabelEncoder\n",
    "from sklearn.ensemble import RandomForestClassifier\n",
    "from sklearn.ensemble import GradientBoostingClassifier\n",
    "from sklearn.ensemble import AdaBoostClassifier\n",
    "from sklearn.linear_model import SGDClassifier\n",
    "from collections import Counter\n",
    "%matplotlib inline\n",
    "warnings.filterwarnings('ignore')\n",
    "# %%time"
   ]
  },
  {
   "cell_type": "code",
   "execution_count": 22,
   "metadata": {
    "ExecuteTime": {
     "end_time": "2019-11-23T15:50:06.657482Z",
     "start_time": "2019-11-23T15:50:06.480009Z"
    }
   },
   "outputs": [
    {
     "data": {
      "text/html": [
       "<div>\n",
       "<style scoped>\n",
       "    .dataframe tbody tr th:only-of-type {\n",
       "        vertical-align: middle;\n",
       "    }\n",
       "\n",
       "    .dataframe tbody tr th {\n",
       "        vertical-align: top;\n",
       "    }\n",
       "\n",
       "    .dataframe thead th {\n",
       "        text-align: right;\n",
       "    }\n",
       "</style>\n",
       "<table border=\"1\" class=\"dataframe\">\n",
       "  <thead>\n",
       "    <tr style=\"text-align: right;\">\n",
       "      <th></th>\n",
       "      <th>school</th>\n",
       "      <th>sex</th>\n",
       "      <th>age</th>\n",
       "      <th>address</th>\n",
       "      <th>famsize</th>\n",
       "      <th>Pstatus</th>\n",
       "      <th>Medu</th>\n",
       "      <th>Fedu</th>\n",
       "      <th>Mjob</th>\n",
       "      <th>Fjob</th>\n",
       "      <th>...</th>\n",
       "      <th>famrel</th>\n",
       "      <th>freetime</th>\n",
       "      <th>goout</th>\n",
       "      <th>Dalc</th>\n",
       "      <th>Walc</th>\n",
       "      <th>health</th>\n",
       "      <th>absences</th>\n",
       "      <th>G1</th>\n",
       "      <th>G2</th>\n",
       "      <th>G3</th>\n",
       "    </tr>\n",
       "  </thead>\n",
       "  <tbody>\n",
       "    <tr>\n",
       "      <th>0</th>\n",
       "      <td>GP</td>\n",
       "      <td>F</td>\n",
       "      <td>18</td>\n",
       "      <td>U</td>\n",
       "      <td>GT3</td>\n",
       "      <td>A</td>\n",
       "      <td>4</td>\n",
       "      <td>4</td>\n",
       "      <td>at_home</td>\n",
       "      <td>teacher</td>\n",
       "      <td>...</td>\n",
       "      <td>4</td>\n",
       "      <td>3</td>\n",
       "      <td>4</td>\n",
       "      <td>1</td>\n",
       "      <td>1</td>\n",
       "      <td>3</td>\n",
       "      <td>6</td>\n",
       "      <td>5</td>\n",
       "      <td>6</td>\n",
       "      <td>6</td>\n",
       "    </tr>\n",
       "    <tr>\n",
       "      <th>1</th>\n",
       "      <td>GP</td>\n",
       "      <td>F</td>\n",
       "      <td>17</td>\n",
       "      <td>U</td>\n",
       "      <td>GT3</td>\n",
       "      <td>T</td>\n",
       "      <td>1</td>\n",
       "      <td>1</td>\n",
       "      <td>at_home</td>\n",
       "      <td>other</td>\n",
       "      <td>...</td>\n",
       "      <td>5</td>\n",
       "      <td>3</td>\n",
       "      <td>3</td>\n",
       "      <td>1</td>\n",
       "      <td>1</td>\n",
       "      <td>3</td>\n",
       "      <td>4</td>\n",
       "      <td>5</td>\n",
       "      <td>5</td>\n",
       "      <td>6</td>\n",
       "    </tr>\n",
       "    <tr>\n",
       "      <th>2</th>\n",
       "      <td>GP</td>\n",
       "      <td>F</td>\n",
       "      <td>15</td>\n",
       "      <td>U</td>\n",
       "      <td>LE3</td>\n",
       "      <td>T</td>\n",
       "      <td>1</td>\n",
       "      <td>1</td>\n",
       "      <td>at_home</td>\n",
       "      <td>other</td>\n",
       "      <td>...</td>\n",
       "      <td>4</td>\n",
       "      <td>3</td>\n",
       "      <td>2</td>\n",
       "      <td>2</td>\n",
       "      <td>3</td>\n",
       "      <td>3</td>\n",
       "      <td>10</td>\n",
       "      <td>7</td>\n",
       "      <td>8</td>\n",
       "      <td>10</td>\n",
       "    </tr>\n",
       "    <tr>\n",
       "      <th>3</th>\n",
       "      <td>GP</td>\n",
       "      <td>F</td>\n",
       "      <td>15</td>\n",
       "      <td>U</td>\n",
       "      <td>GT3</td>\n",
       "      <td>T</td>\n",
       "      <td>4</td>\n",
       "      <td>2</td>\n",
       "      <td>health</td>\n",
       "      <td>services</td>\n",
       "      <td>...</td>\n",
       "      <td>3</td>\n",
       "      <td>2</td>\n",
       "      <td>2</td>\n",
       "      <td>1</td>\n",
       "      <td>1</td>\n",
       "      <td>5</td>\n",
       "      <td>2</td>\n",
       "      <td>15</td>\n",
       "      <td>14</td>\n",
       "      <td>15</td>\n",
       "    </tr>\n",
       "    <tr>\n",
       "      <th>4</th>\n",
       "      <td>GP</td>\n",
       "      <td>F</td>\n",
       "      <td>16</td>\n",
       "      <td>U</td>\n",
       "      <td>GT3</td>\n",
       "      <td>T</td>\n",
       "      <td>3</td>\n",
       "      <td>3</td>\n",
       "      <td>other</td>\n",
       "      <td>other</td>\n",
       "      <td>...</td>\n",
       "      <td>4</td>\n",
       "      <td>3</td>\n",
       "      <td>2</td>\n",
       "      <td>1</td>\n",
       "      <td>2</td>\n",
       "      <td>5</td>\n",
       "      <td>4</td>\n",
       "      <td>6</td>\n",
       "      <td>10</td>\n",
       "      <td>10</td>\n",
       "    </tr>\n",
       "    <tr>\n",
       "      <th>5</th>\n",
       "      <td>GP</td>\n",
       "      <td>M</td>\n",
       "      <td>16</td>\n",
       "      <td>U</td>\n",
       "      <td>LE3</td>\n",
       "      <td>T</td>\n",
       "      <td>4</td>\n",
       "      <td>3</td>\n",
       "      <td>services</td>\n",
       "      <td>other</td>\n",
       "      <td>...</td>\n",
       "      <td>5</td>\n",
       "      <td>4</td>\n",
       "      <td>2</td>\n",
       "      <td>1</td>\n",
       "      <td>2</td>\n",
       "      <td>5</td>\n",
       "      <td>10</td>\n",
       "      <td>15</td>\n",
       "      <td>15</td>\n",
       "      <td>15</td>\n",
       "    </tr>\n",
       "    <tr>\n",
       "      <th>6</th>\n",
       "      <td>GP</td>\n",
       "      <td>M</td>\n",
       "      <td>16</td>\n",
       "      <td>U</td>\n",
       "      <td>LE3</td>\n",
       "      <td>T</td>\n",
       "      <td>2</td>\n",
       "      <td>2</td>\n",
       "      <td>other</td>\n",
       "      <td>other</td>\n",
       "      <td>...</td>\n",
       "      <td>4</td>\n",
       "      <td>4</td>\n",
       "      <td>4</td>\n",
       "      <td>1</td>\n",
       "      <td>1</td>\n",
       "      <td>3</td>\n",
       "      <td>0</td>\n",
       "      <td>12</td>\n",
       "      <td>12</td>\n",
       "      <td>11</td>\n",
       "    </tr>\n",
       "    <tr>\n",
       "      <th>7</th>\n",
       "      <td>GP</td>\n",
       "      <td>F</td>\n",
       "      <td>17</td>\n",
       "      <td>U</td>\n",
       "      <td>GT3</td>\n",
       "      <td>A</td>\n",
       "      <td>4</td>\n",
       "      <td>4</td>\n",
       "      <td>other</td>\n",
       "      <td>teacher</td>\n",
       "      <td>...</td>\n",
       "      <td>4</td>\n",
       "      <td>1</td>\n",
       "      <td>4</td>\n",
       "      <td>1</td>\n",
       "      <td>1</td>\n",
       "      <td>1</td>\n",
       "      <td>6</td>\n",
       "      <td>6</td>\n",
       "      <td>5</td>\n",
       "      <td>6</td>\n",
       "    </tr>\n",
       "    <tr>\n",
       "      <th>8</th>\n",
       "      <td>GP</td>\n",
       "      <td>M</td>\n",
       "      <td>15</td>\n",
       "      <td>U</td>\n",
       "      <td>LE3</td>\n",
       "      <td>A</td>\n",
       "      <td>3</td>\n",
       "      <td>2</td>\n",
       "      <td>services</td>\n",
       "      <td>other</td>\n",
       "      <td>...</td>\n",
       "      <td>4</td>\n",
       "      <td>2</td>\n",
       "      <td>2</td>\n",
       "      <td>1</td>\n",
       "      <td>1</td>\n",
       "      <td>1</td>\n",
       "      <td>0</td>\n",
       "      <td>16</td>\n",
       "      <td>18</td>\n",
       "      <td>19</td>\n",
       "    </tr>\n",
       "    <tr>\n",
       "      <th>9</th>\n",
       "      <td>GP</td>\n",
       "      <td>M</td>\n",
       "      <td>15</td>\n",
       "      <td>U</td>\n",
       "      <td>GT3</td>\n",
       "      <td>T</td>\n",
       "      <td>3</td>\n",
       "      <td>4</td>\n",
       "      <td>other</td>\n",
       "      <td>other</td>\n",
       "      <td>...</td>\n",
       "      <td>5</td>\n",
       "      <td>5</td>\n",
       "      <td>1</td>\n",
       "      <td>1</td>\n",
       "      <td>1</td>\n",
       "      <td>5</td>\n",
       "      <td>0</td>\n",
       "      <td>14</td>\n",
       "      <td>15</td>\n",
       "      <td>15</td>\n",
       "    </tr>\n",
       "  </tbody>\n",
       "</table>\n",
       "<p>10 rows × 33 columns</p>\n",
       "</div>"
      ],
      "text/plain": [
       "  school sex  age address famsize Pstatus  Medu  Fedu      Mjob      Fjob  \\\n",
       "0     GP   F   18       U     GT3       A     4     4   at_home   teacher   \n",
       "1     GP   F   17       U     GT3       T     1     1   at_home     other   \n",
       "2     GP   F   15       U     LE3       T     1     1   at_home     other   \n",
       "3     GP   F   15       U     GT3       T     4     2    health  services   \n",
       "4     GP   F   16       U     GT3       T     3     3     other     other   \n",
       "5     GP   M   16       U     LE3       T     4     3  services     other   \n",
       "6     GP   M   16       U     LE3       T     2     2     other     other   \n",
       "7     GP   F   17       U     GT3       A     4     4     other   teacher   \n",
       "8     GP   M   15       U     LE3       A     3     2  services     other   \n",
       "9     GP   M   15       U     GT3       T     3     4     other     other   \n",
       "\n",
       "   ... famrel freetime  goout  Dalc  Walc health absences  G1  G2  G3  \n",
       "0  ...      4        3      4     1     1      3        6   5   6   6  \n",
       "1  ...      5        3      3     1     1      3        4   5   5   6  \n",
       "2  ...      4        3      2     2     3      3       10   7   8  10  \n",
       "3  ...      3        2      2     1     1      5        2  15  14  15  \n",
       "4  ...      4        3      2     1     2      5        4   6  10  10  \n",
       "5  ...      5        4      2     1     2      5       10  15  15  15  \n",
       "6  ...      4        4      4     1     1      3        0  12  12  11  \n",
       "7  ...      4        1      4     1     1      1        6   6   5   6  \n",
       "8  ...      4        2      2     1     1      1        0  16  18  19  \n",
       "9  ...      5        5      1     1     1      5        0  14  15  15  \n",
       "\n",
       "[10 rows x 33 columns]"
      ]
     },
     "execution_count": 22,
     "metadata": {},
     "output_type": "execute_result"
    }
   ],
   "source": [
    "df_mat = pd.read_csv('student-mat.csv')\n",
    "df_por = pd.read_csv('student-por.csv')\n",
    "df = pd.concat([df_mat,df_por])\n",
    "df.head(10)"
   ]
  },
  {
   "cell_type": "code",
   "execution_count": 23,
   "metadata": {
    "ExecuteTime": {
     "end_time": "2019-11-23T15:50:06.663451Z",
     "start_time": "2019-11-23T15:50:06.658464Z"
    }
   },
   "outputs": [
    {
     "name": "stdout",
     "output_type": "stream",
     "text": [
      "['school', 'sex', 'age', 'address', 'famsize', 'Pstatus', 'Medu', 'Fedu', 'Mjob', 'Fjob', 'reason', 'guardian', 'traveltime', 'studytime', 'failures', 'schoolsup', 'famsup', 'paid', 'activities', 'nursery', 'higher', 'internet', 'romantic', 'famrel', 'freetime', 'goout', 'Dalc', 'Walc', 'health', 'absences', 'G1', 'G2', 'G3']\n"
     ]
    }
   ],
   "source": [
    "list_cols = list(df.columns)\n",
    "print(list_cols)"
   ]
  },
  {
   "cell_type": "markdown",
   "metadata": {},
   "source": [
    "# 3. Exploratory Data Analysis"
   ]
  },
  {
   "cell_type": "markdown",
   "metadata": {},
   "source": [
    "In conducting the study, the data was further observed through exploratory data analysis. As observed from the display of the values of the dataset, categorical variables were checked if there are misclassifications of being either nominal or ordinal variables.  In order to have an efficient process, the data was first check for missing values."
   ]
  },
  {
   "cell_type": "code",
   "execution_count": 24,
   "metadata": {
    "ExecuteTime": {
     "end_time": "2019-11-23T15:50:06.680045Z",
     "start_time": "2019-11-23T15:50:06.665446Z"
    }
   },
   "outputs": [
    {
     "data": {
      "text/plain": [
       "school        0\n",
       "sex           0\n",
       "age           0\n",
       "address       0\n",
       "famsize       0\n",
       "Pstatus       0\n",
       "Medu          0\n",
       "Fedu          0\n",
       "Mjob          0\n",
       "Fjob          0\n",
       "reason        0\n",
       "guardian      0\n",
       "traveltime    0\n",
       "studytime     0\n",
       "failures      0\n",
       "schoolsup     0\n",
       "famsup        0\n",
       "paid          0\n",
       "activities    0\n",
       "nursery       0\n",
       "higher        0\n",
       "internet      0\n",
       "romantic      0\n",
       "famrel        0\n",
       "freetime      0\n",
       "goout         0\n",
       "Dalc          0\n",
       "Walc          0\n",
       "health        0\n",
       "absences      0\n",
       "G1            0\n",
       "G2            0\n",
       "G3            0\n",
       "dtype: int64"
      ]
     },
     "execution_count": 24,
     "metadata": {},
     "output_type": "execute_result"
    }
   ],
   "source": [
    "df.isnull().sum()"
   ]
  },
  {
   "cell_type": "markdown",
   "metadata": {
    "ExecuteTime": {
     "end_time": "2019-08-18T14:57:39.136282Z",
     "start_time": "2019-08-18T14:57:39.120296Z"
    }
   },
   "source": [
    "Through observation, it can be seen that the data provided has no missing values. Since the goal of this study is to predict the final grade of the students, the grading was classfied based on a certain range. From a grade of 0-9 to be classified as **'poor'**, from a grade of 10-14 to be classified as **'fair'** and from a grade of 15-20 to be classified as **'good'**. The main idea now is to predict the student's final grades as a classification among these three values."
   ]
  },
  {
   "cell_type": "code",
   "execution_count": 25,
   "metadata": {
    "ExecuteTime": {
     "end_time": "2019-11-23T15:50:06.731431Z",
     "start_time": "2019-11-23T15:50:06.681041Z"
    }
   },
   "outputs": [
    {
     "data": {
      "text/html": [
       "<div>\n",
       "<style scoped>\n",
       "    .dataframe tbody tr th:only-of-type {\n",
       "        vertical-align: middle;\n",
       "    }\n",
       "\n",
       "    .dataframe tbody tr th {\n",
       "        vertical-align: top;\n",
       "    }\n",
       "\n",
       "    .dataframe thead th {\n",
       "        text-align: right;\n",
       "    }\n",
       "</style>\n",
       "<table border=\"1\" class=\"dataframe\">\n",
       "  <thead>\n",
       "    <tr style=\"text-align: right;\">\n",
       "      <th></th>\n",
       "      <th>school</th>\n",
       "      <th>sex</th>\n",
       "      <th>age</th>\n",
       "      <th>address</th>\n",
       "      <th>famsize</th>\n",
       "      <th>Pstatus</th>\n",
       "      <th>Medu</th>\n",
       "      <th>Fedu</th>\n",
       "      <th>Mjob</th>\n",
       "      <th>Fjob</th>\n",
       "      <th>...</th>\n",
       "      <th>freetime</th>\n",
       "      <th>goout</th>\n",
       "      <th>Dalc</th>\n",
       "      <th>Walc</th>\n",
       "      <th>health</th>\n",
       "      <th>absences</th>\n",
       "      <th>G1</th>\n",
       "      <th>G2</th>\n",
       "      <th>G3</th>\n",
       "      <th>final_grade</th>\n",
       "    </tr>\n",
       "  </thead>\n",
       "  <tbody>\n",
       "    <tr>\n",
       "      <th>0</th>\n",
       "      <td>GP</td>\n",
       "      <td>F</td>\n",
       "      <td>18</td>\n",
       "      <td>U</td>\n",
       "      <td>GT3</td>\n",
       "      <td>A</td>\n",
       "      <td>4</td>\n",
       "      <td>4</td>\n",
       "      <td>at_home</td>\n",
       "      <td>teacher</td>\n",
       "      <td>...</td>\n",
       "      <td>3</td>\n",
       "      <td>4</td>\n",
       "      <td>1</td>\n",
       "      <td>1</td>\n",
       "      <td>3</td>\n",
       "      <td>6</td>\n",
       "      <td>5</td>\n",
       "      <td>6</td>\n",
       "      <td>6</td>\n",
       "      <td>poor</td>\n",
       "    </tr>\n",
       "    <tr>\n",
       "      <th>1</th>\n",
       "      <td>GP</td>\n",
       "      <td>F</td>\n",
       "      <td>17</td>\n",
       "      <td>U</td>\n",
       "      <td>GT3</td>\n",
       "      <td>T</td>\n",
       "      <td>1</td>\n",
       "      <td>1</td>\n",
       "      <td>at_home</td>\n",
       "      <td>other</td>\n",
       "      <td>...</td>\n",
       "      <td>3</td>\n",
       "      <td>3</td>\n",
       "      <td>1</td>\n",
       "      <td>1</td>\n",
       "      <td>3</td>\n",
       "      <td>4</td>\n",
       "      <td>5</td>\n",
       "      <td>5</td>\n",
       "      <td>6</td>\n",
       "      <td>poor</td>\n",
       "    </tr>\n",
       "    <tr>\n",
       "      <th>2</th>\n",
       "      <td>GP</td>\n",
       "      <td>F</td>\n",
       "      <td>15</td>\n",
       "      <td>U</td>\n",
       "      <td>LE3</td>\n",
       "      <td>T</td>\n",
       "      <td>1</td>\n",
       "      <td>1</td>\n",
       "      <td>at_home</td>\n",
       "      <td>other</td>\n",
       "      <td>...</td>\n",
       "      <td>3</td>\n",
       "      <td>2</td>\n",
       "      <td>2</td>\n",
       "      <td>3</td>\n",
       "      <td>3</td>\n",
       "      <td>10</td>\n",
       "      <td>7</td>\n",
       "      <td>8</td>\n",
       "      <td>10</td>\n",
       "      <td>fair</td>\n",
       "    </tr>\n",
       "    <tr>\n",
       "      <th>3</th>\n",
       "      <td>GP</td>\n",
       "      <td>F</td>\n",
       "      <td>15</td>\n",
       "      <td>U</td>\n",
       "      <td>GT3</td>\n",
       "      <td>T</td>\n",
       "      <td>4</td>\n",
       "      <td>2</td>\n",
       "      <td>health</td>\n",
       "      <td>services</td>\n",
       "      <td>...</td>\n",
       "      <td>2</td>\n",
       "      <td>2</td>\n",
       "      <td>1</td>\n",
       "      <td>1</td>\n",
       "      <td>5</td>\n",
       "      <td>2</td>\n",
       "      <td>15</td>\n",
       "      <td>14</td>\n",
       "      <td>15</td>\n",
       "      <td>good</td>\n",
       "    </tr>\n",
       "    <tr>\n",
       "      <th>4</th>\n",
       "      <td>GP</td>\n",
       "      <td>F</td>\n",
       "      <td>16</td>\n",
       "      <td>U</td>\n",
       "      <td>GT3</td>\n",
       "      <td>T</td>\n",
       "      <td>3</td>\n",
       "      <td>3</td>\n",
       "      <td>other</td>\n",
       "      <td>other</td>\n",
       "      <td>...</td>\n",
       "      <td>3</td>\n",
       "      <td>2</td>\n",
       "      <td>1</td>\n",
       "      <td>2</td>\n",
       "      <td>5</td>\n",
       "      <td>4</td>\n",
       "      <td>6</td>\n",
       "      <td>10</td>\n",
       "      <td>10</td>\n",
       "      <td>fair</td>\n",
       "    </tr>\n",
       "  </tbody>\n",
       "</table>\n",
       "<p>5 rows × 34 columns</p>\n",
       "</div>"
      ],
      "text/plain": [
       "  school sex  age address famsize Pstatus  Medu  Fedu     Mjob      Fjob  ...  \\\n",
       "0     GP   F   18       U     GT3       A     4     4  at_home   teacher  ...   \n",
       "1     GP   F   17       U     GT3       T     1     1  at_home     other  ...   \n",
       "2     GP   F   15       U     LE3       T     1     1  at_home     other  ...   \n",
       "3     GP   F   15       U     GT3       T     4     2   health  services  ...   \n",
       "4     GP   F   16       U     GT3       T     3     3    other     other  ...   \n",
       "\n",
       "  freetime goout  Dalc  Walc  health absences  G1  G2  G3 final_grade  \n",
       "0        3     4     1     1       3        6   5   6   6        poor  \n",
       "1        3     3     1     1       3        4   5   5   6        poor  \n",
       "2        3     2     2     3       3       10   7   8  10        fair  \n",
       "3        2     2     1     1       5        2  15  14  15        good  \n",
       "4        3     2     1     2       5        4   6  10  10        fair  \n",
       "\n",
       "[5 rows x 34 columns]"
      ]
     },
     "execution_count": 25,
     "metadata": {},
     "output_type": "execute_result"
    }
   ],
   "source": [
    "# convert final_score to categorical variable # Good:15~20 Fair:10~14 Poor:0~9\n",
    "df['final_grade'] = 'na'\n",
    "df.loc[(df['G3'] >= 15) & (df['G3'] <= 20), 'final_grade'] = 'good'\n",
    "df.loc[(df['G3'] >= 10) & (df['G3'] <= 14), 'final_grade'] = 'fair'\n",
    "df.loc[(df['G3'] >= 0) & (df['G3'] <= 9), 'final_grade'] = 'poor'\n",
    "df.head(5)"
   ]
  },
  {
   "cell_type": "markdown",
   "metadata": {},
   "source": [
    "## 3.1 Correlation Analysis"
   ]
  },
  {
   "cell_type": "code",
   "execution_count": 26,
   "metadata": {
    "ExecuteTime": {
     "end_time": "2019-11-23T15:50:07.962962Z",
     "start_time": "2019-11-23T15:50:06.732426Z"
    }
   },
   "outputs": [
    {
     "data": {
      "text/plain": [
       "<matplotlib.axes._subplots.AxesSubplot at 0x1c321485828>"
      ]
     },
     "execution_count": 26,
     "metadata": {},
     "output_type": "execute_result"
    },
    {
     "data": {
      "image/png": "[encoded data removed]",
      "text/plain": [
       "<Figure size 720x720 with 2 Axes>"
      ]
     },
     "metadata": {
      "needs_background": "light"
     },
     "output_type": "display_data"
    }
   ],
   "source": [
    "f, ax = plt.subplots(figsize=(10, 10))\n",
    "sns.heatmap(df.corr(), annot=True, linewidths=.5, fmt='.1f', ax=ax)"
   ]
  },
  {
   "cell_type": "markdown",
   "metadata": {},
   "source": [
    "By observing the correlations among variables, it can be seen that certain variables have effects on other variables that is either positive or negative. As expected, the previous grades were highly correlated to each other. The case was also the same for the daily alchohol consumption (***Dalc***) to weekend alcohol consumption (***Walc***) and with the mother's education (***Medu***) with the father's education (***Fedu***). Knowing the correlation among these variables can help us if we chose to do feature selection, feature engineering or feature importance. With this, we check what are some of the factors which can affect a student's academic performance."
   ]
  },
  {
   "cell_type": "markdown",
   "metadata": {},
   "source": [
    "## 3.2 Student Count according to Final Grade"
   ]
  },
  {
   "cell_type": "code",
   "execution_count": 27,
   "metadata": {
    "ExecuteTime": {
     "end_time": "2019-11-23T15:50:08.101041Z",
     "start_time": "2019-11-23T15:50:07.965952Z"
    }
   },
   "outputs": [
    {
     "data": {
      "text/plain": [
       "Text(0, 0.5, 'Number of Student')"
      ]
     },
     "execution_count": 27,
     "metadata": {},
     "output_type": "execute_result"
    },
    {
     "data": {
      "image/png": "[encoded data removed]",
      "text/plain": [
       "<Figure size 576x432 with 1 Axes>"
      ]
     },
     "metadata": {
      "needs_background": "light"
     },
     "output_type": "display_data"
    }
   ],
   "source": [
    "plt.figure(figsize=(8, 6))\n",
    "sns.countplot(df['final_grade'], order=[\"poor\", \"fair\", \"good\"])\n",
    "plt.title('Final Grade - Number of Students')\n",
    "plt.xlabel('Final Grade')\n",
    "plt.ylabel('Number of Student')"
   ]
  },
  {
   "cell_type": "markdown",
   "metadata": {},
   "source": [
    "Observing the graph, it seems that the majority of the students from the dataset have a grade that is fair. The count of students with poor and good grades are almost equal to each other. This proves a realistic assumption that most students have an average grade as compared to those with exceptional and poor academic performance."
   ]
  },
  {
   "cell_type": "markdown",
   "metadata": {},
   "source": [
    "## 3.3 Does alcohol consumption during weekends affect student performance?"
   ]
  },
  {
   "cell_type": "code",
   "execution_count": 28,
   "metadata": {
    "ExecuteTime": {
     "end_time": "2019-11-23T15:50:08.167646Z",
     "start_time": "2019-11-23T15:50:08.103037Z"
    }
   },
   "outputs": [],
   "source": [
    "# weekend alcohol consumption\n",
    "perc = (lambda col: col/col.sum())\n",
    "index = ['poor', 'fair', 'good']\n",
    "alc_tab1 = pd.crosstab(index=df['final_grade'], columns=df['Walc'])\n",
    "alc_tab = np.log(alc_tab1)\n",
    "alc_perc = alc_tab.apply(perc).reindex(index)"
   ]
  },
  {
   "cell_type": "code",
   "execution_count": 29,
   "metadata": {
    "ExecuteTime": {
     "end_time": "2019-11-23T15:50:08.799106Z",
     "start_time": "2019-11-23T15:50:08.168764Z"
    }
   },
   "outputs": [
    {
     "data": {
      "text/plain": [
       "Text(0.5, 0, 'Level of Alcohol Consumption')"
      ]
     },
     "execution_count": 29,
     "metadata": {},
     "output_type": "execute_result"
    },
    {
     "data": {
      "image/png": "[encoded data removed]",
      "text/plain": [
       "<Figure size 720x432 with 1 Axes>"
      ]
     },
     "metadata": {
      "needs_background": "light"
     },
     "output_type": "display_data"
    }
   ],
   "source": [
    "good = df.loc[df['final_grade'] == 'good']\n",
    "good['good_alcohol_usage'] = good['Walc']\n",
    "# create poor student dataframe\n",
    "poor = df.loc[df['final_grade'] == 'poor']\n",
    "poor['poor_alcohol_usage'] = poor['Walc']\n",
    "\n",
    "plt.figure(figsize=(10, 6))\n",
    "p1 = sns.kdeplot(good['good_alcohol_usage'], shade=True, color=\"r\")\n",
    "p1 = sns.kdeplot(poor['poor_alcohol_usage'], shade=True, color=\"b\")\n",
    "plt.title('Good Performance vs. Poor Performance Student Weekend Alcohol Consumption', fontsize=20)\n",
    "plt.ylabel('Density', fontsize=12)\n",
    "plt.xlabel('Level of Alcohol Consumption', fontsize=12)"
   ]
  },
  {
   "cell_type": "markdown",
   "metadata": {},
   "source": [
    "By observing the density plots between good vs poor performance with regards to student weekend alcohol consumption, it can be seen that those with the good performance tend to drink less than those with poor performance."
   ]
  },
  {
   "cell_type": "code",
   "execution_count": 30,
   "metadata": {
    "ExecuteTime": {
     "end_time": "2019-11-23T15:50:08.994723Z",
     "start_time": "2019-11-23T15:50:08.800071Z"
    },
    "scrolled": false
   },
   "outputs": [
    {
     "data": {
      "text/plain": [
       "Text(0.5, 0, 'Final Grade')"
      ]
     },
     "execution_count": 30,
     "metadata": {},
     "output_type": "execute_result"
    },
    {
     "data": {
      "image/png": "[encoded data removed]",
      "text/plain": [
       "<Figure size 720x576 with 1 Axes>"
      ]
     },
     "metadata": {
      "needs_background": "light"
     },
     "output_type": "display_data"
    }
   ],
   "source": [
    "alc_tab1.plot.bar(figsize=(10, 8), fontsize=16)\n",
    "plt.title('Final Grade By Weekend Alcohol Consumption', fontsize=20)\n",
    "plt.ylabel('Student Counts', fontsize=15)\n",
    "plt.xlabel('Final Grade', fontsize=16)"
   ]
  },
  {
   "cell_type": "markdown",
   "metadata": {},
   "source": [
    "With this, we can say that weekend alcohol consumption has an effect to a student's performance in school."
   ]
  },
  {
   "cell_type": "markdown",
   "metadata": {},
   "source": [
    "## 3.4 Does frequency of going out affect student performance?"
   ]
  },
  {
   "cell_type": "code",
   "execution_count": 31,
   "metadata": {
    "ExecuteTime": {
     "end_time": "2019-11-23T15:50:09.197699Z",
     "start_time": "2019-11-23T15:50:08.995688Z"
    }
   },
   "outputs": [
    {
     "data": {
      "text/plain": [
       "Text(0.5, 0, 'Frequency of Going Out')"
      ]
     },
     "execution_count": 31,
     "metadata": {},
     "output_type": "execute_result"
    },
    {
     "data": {
      "image/png": "[encoded data removed]",
      "text/plain": [
       "<Figure size 432x504 with 1 Axes>"
      ]
     },
     "metadata": {
      "needs_background": "light"
     },
     "output_type": "display_data"
    }
   ],
   "source": [
    "# going out with friends (numeric: from 1 - very low to 5 - very high)\n",
    "plt.figure(figsize=(6, 7))\n",
    "sns.boxplot(x='goout', y='G2', data=df, palette='hot')\n",
    "plt.title('Final Grade By Frequency of Going Out', fontsize=20)\n",
    "plt.ylabel('Final Score', fontsize=16)\n",
    "plt.xlabel('Frequency of Going Out', fontsize=16)"
   ]
  },
  {
   "cell_type": "code",
   "execution_count": 32,
   "metadata": {
    "ExecuteTime": {
     "end_time": "2019-11-23T15:50:09.415057Z",
     "start_time": "2019-11-23T15:50:09.198666Z"
    }
   },
   "outputs": [
    {
     "data": {
      "text/plain": [
       "Text(0.5, 0, 'Final Grade')"
      ]
     },
     "execution_count": 32,
     "metadata": {},
     "output_type": "execute_result"
    },
    {
     "data": {
      "image/png": "[encoded data removed]",
      "text/plain": [
       "<Figure size 1008x432 with 1 Axes>"
      ]
     },
     "metadata": {
      "needs_background": "light"
     },
     "output_type": "display_data"
    }
   ],
   "source": [
    "out_tab = pd.crosstab(index=df['final_grade'], columns=df['goout'])\n",
    "\n",
    "out_tab.plot.bar(fontsize=16, figsize=(14, 6))\n",
    "plt.title('Final Grade By Frequency of Going Out', fontsize=20)\n",
    "plt.ylabel('Number of Students', fontsize=16)\n",
    "plt.xlabel('Final Grade', fontsize=16)"
   ]
  },
  {
   "cell_type": "markdown",
   "metadata": {},
   "source": [
    "We now ask the question of whether or not the frequency of going out has an effect to academic performance. By basing on the two graphs, it can be assumed that the frequency of going out is a variable to be considered in predicting the final grade."
   ]
  },
  {
   "cell_type": "markdown",
   "metadata": {},
   "source": [
    "## 3.5 Does living near Urban areas affect student performance?"
   ]
  },
  {
   "cell_type": "code",
   "execution_count": 33,
   "metadata": {
    "ExecuteTime": {
     "end_time": "2019-11-23T15:50:09.527305Z",
     "start_time": "2019-11-23T15:50:09.416055Z"
    }
   },
   "outputs": [
    {
     "data": {
      "image/png": "[encoded data removed]",
      "text/plain": [
       "<Figure size 432x432 with 1 Axes>"
      ]
     },
     "metadata": {
      "needs_background": "light"
     },
     "output_type": "display_data"
    }
   ],
   "source": [
    "plt.figure(figsize=(6, 6))\n",
    "sns.countplot(df['address'])\n",
    "plt.title('Urban and Rural Students Count', fontsize=20)\n",
    "plt.xlabel('Area of Living', fontsize=16)\n",
    "plt.ylabel('Number Of Students', fontsize=16)\n",
    "plt.show()"
   ]
  },
  {
   "cell_type": "markdown",
   "metadata": {},
   "source": [
    "Looking at the count of students living in an Urban or Rural environment, it can be seen that more students are living in an urban setting."
   ]
  },
  {
   "cell_type": "code",
   "execution_count": 34,
   "metadata": {
    "ExecuteTime": {
     "end_time": "2019-11-23T15:50:09.542194Z",
     "start_time": "2019-11-23T15:50:09.528232Z"
    }
   },
   "outputs": [],
   "source": [
    "ad_tab1 = pd.crosstab(index=df['final_grade'], columns=df['address'])"
   ]
  },
  {
   "cell_type": "code",
   "execution_count": 35,
   "metadata": {
    "ExecuteTime": {
     "end_time": "2019-11-23T15:50:09.702837Z",
     "start_time": "2019-11-23T15:50:09.543147Z"
    }
   },
   "outputs": [
    {
     "data": {
      "text/plain": [
       "Text(0.5, 0, 'Final Grade')"
      ]
     },
     "execution_count": 35,
     "metadata": {},
     "output_type": "execute_result"
    },
    {
     "data": {
      "image/png": "[encoded data removed]",
      "text/plain": [
       "<Figure size 504x432 with 1 Axes>"
      ]
     },
     "metadata": {
      "needs_background": "light"
     },
     "output_type": "display_data"
    }
   ],
   "source": [
    "ad_tab1.plot.bar(fontsize=15, figsize=(7, 6))\n",
    "plt.title('Final Grade By Living Area', fontsize=20)\n",
    "plt.ylabel('Number of Students', fontsize=16)\n",
    "plt.xlabel('Final Grade', fontsize=12)"
   ]
  },
  {
   "cell_type": "markdown",
   "metadata": {},
   "source": [
    "By taking a look at the final grades of students and whether they are living either in an urban or rural area, it can be clearly seen that urban living students tend to perform better. Thus the area of where a student lives can have a significant effect to his/her academic performance.\n",
    "\n",
    "These three examples show just some of what to be expected in observing this dataset. There are many other combinations to know and observe the effects on performance such as romantic relationships' effect, the parents educational background and job, the accessibility of internet and its effect on studying and many others."
   ]
  },
  {
   "cell_type": "markdown",
   "metadata": {},
   "source": [
    "# 4. Data Processing"
   ]
  },
  {
   "cell_type": "markdown",
   "metadata": {},
   "source": [
    "In processing the data, we need to account for the redundancy of columns and know which variables needs consideration (handling of ordinal and nominal categorical variables). In doing so, we can be rest assured that the results of the machine learning algorithms can be reliable and does not suffer from problems such as multicollinearity and long training times.\n",
    "\n",
    "The first step in for in processing the data for this study is dropping the column ***G3***. This is because the column ***final grade***, which is our target/goal variable, is derived from ***G3***. This helps reduce correlation of variables."
   ]
  },
  {
   "cell_type": "code",
   "execution_count": 36,
   "metadata": {
    "ExecuteTime": {
     "end_time": "2019-11-23T15:50:09.708961Z",
     "start_time": "2019-11-23T15:50:09.703835Z"
    }
   },
   "outputs": [],
   "source": [
    "df_copy = df.copy()\n",
    "# Drop G3 because it is redundant with Final_grade\n",
    "df_copy = df_copy.drop(['G3'], axis=1)"
   ]
  },
  {
   "cell_type": "markdown",
   "metadata": {},
   "source": [
    "The second step that we need to do is to label encode the target variable. Using **LabelEncoder** function, we can convert the target variable into values that will be useful for the algorithms to work"
   ]
  },
  {
   "cell_type": "code",
   "execution_count": 37,
   "metadata": {
    "ExecuteTime": {
     "end_time": "2019-11-23T15:50:09.735716Z",
     "start_time": "2019-11-23T15:50:09.709959Z"
    }
   },
   "outputs": [
    {
     "data": {
      "text/html": [
       "<div>\n",
       "<style scoped>\n",
       "    .dataframe tbody tr th:only-of-type {\n",
       "        vertical-align: middle;\n",
       "    }\n",
       "\n",
       "    .dataframe tbody tr th {\n",
       "        vertical-align: top;\n",
       "    }\n",
       "\n",
       "    .dataframe thead th {\n",
       "        text-align: right;\n",
       "    }\n",
       "</style>\n",
       "<table border=\"1\" class=\"dataframe\">\n",
       "  <thead>\n",
       "    <tr style=\"text-align: right;\">\n",
       "      <th></th>\n",
       "      <th>school</th>\n",
       "      <th>sex</th>\n",
       "      <th>age</th>\n",
       "      <th>address</th>\n",
       "      <th>famsize</th>\n",
       "      <th>Pstatus</th>\n",
       "      <th>Medu</th>\n",
       "      <th>Fedu</th>\n",
       "      <th>Mjob</th>\n",
       "      <th>Fjob</th>\n",
       "      <th>...</th>\n",
       "      <th>famrel</th>\n",
       "      <th>freetime</th>\n",
       "      <th>goout</th>\n",
       "      <th>Dalc</th>\n",
       "      <th>Walc</th>\n",
       "      <th>health</th>\n",
       "      <th>absences</th>\n",
       "      <th>G1</th>\n",
       "      <th>G2</th>\n",
       "      <th>final_grade</th>\n",
       "    </tr>\n",
       "  </thead>\n",
       "  <tbody>\n",
       "    <tr>\n",
       "      <th>0</th>\n",
       "      <td>GP</td>\n",
       "      <td>F</td>\n",
       "      <td>18</td>\n",
       "      <td>U</td>\n",
       "      <td>GT3</td>\n",
       "      <td>A</td>\n",
       "      <td>4</td>\n",
       "      <td>4</td>\n",
       "      <td>at_home</td>\n",
       "      <td>teacher</td>\n",
       "      <td>...</td>\n",
       "      <td>4</td>\n",
       "      <td>3</td>\n",
       "      <td>4</td>\n",
       "      <td>1</td>\n",
       "      <td>1</td>\n",
       "      <td>3</td>\n",
       "      <td>6</td>\n",
       "      <td>5</td>\n",
       "      <td>6</td>\n",
       "      <td>2</td>\n",
       "    </tr>\n",
       "    <tr>\n",
       "      <th>1</th>\n",
       "      <td>GP</td>\n",
       "      <td>F</td>\n",
       "      <td>17</td>\n",
       "      <td>U</td>\n",
       "      <td>GT3</td>\n",
       "      <td>T</td>\n",
       "      <td>1</td>\n",
       "      <td>1</td>\n",
       "      <td>at_home</td>\n",
       "      <td>other</td>\n",
       "      <td>...</td>\n",
       "      <td>5</td>\n",
       "      <td>3</td>\n",
       "      <td>3</td>\n",
       "      <td>1</td>\n",
       "      <td>1</td>\n",
       "      <td>3</td>\n",
       "      <td>4</td>\n",
       "      <td>5</td>\n",
       "      <td>5</td>\n",
       "      <td>2</td>\n",
       "    </tr>\n",
       "    <tr>\n",
       "      <th>2</th>\n",
       "      <td>GP</td>\n",
       "      <td>F</td>\n",
       "      <td>15</td>\n",
       "      <td>U</td>\n",
       "      <td>LE3</td>\n",
       "      <td>T</td>\n",
       "      <td>1</td>\n",
       "      <td>1</td>\n",
       "      <td>at_home</td>\n",
       "      <td>other</td>\n",
       "      <td>...</td>\n",
       "      <td>4</td>\n",
       "      <td>3</td>\n",
       "      <td>2</td>\n",
       "      <td>2</td>\n",
       "      <td>3</td>\n",
       "      <td>3</td>\n",
       "      <td>10</td>\n",
       "      <td>7</td>\n",
       "      <td>8</td>\n",
       "      <td>0</td>\n",
       "    </tr>\n",
       "    <tr>\n",
       "      <th>3</th>\n",
       "      <td>GP</td>\n",
       "      <td>F</td>\n",
       "      <td>15</td>\n",
       "      <td>U</td>\n",
       "      <td>GT3</td>\n",
       "      <td>T</td>\n",
       "      <td>4</td>\n",
       "      <td>2</td>\n",
       "      <td>health</td>\n",
       "      <td>services</td>\n",
       "      <td>...</td>\n",
       "      <td>3</td>\n",
       "      <td>2</td>\n",
       "      <td>2</td>\n",
       "      <td>1</td>\n",
       "      <td>1</td>\n",
       "      <td>5</td>\n",
       "      <td>2</td>\n",
       "      <td>15</td>\n",
       "      <td>14</td>\n",
       "      <td>1</td>\n",
       "    </tr>\n",
       "    <tr>\n",
       "      <th>4</th>\n",
       "      <td>GP</td>\n",
       "      <td>F</td>\n",
       "      <td>16</td>\n",
       "      <td>U</td>\n",
       "      <td>GT3</td>\n",
       "      <td>T</td>\n",
       "      <td>3</td>\n",
       "      <td>3</td>\n",
       "      <td>other</td>\n",
       "      <td>other</td>\n",
       "      <td>...</td>\n",
       "      <td>4</td>\n",
       "      <td>3</td>\n",
       "      <td>2</td>\n",
       "      <td>1</td>\n",
       "      <td>2</td>\n",
       "      <td>5</td>\n",
       "      <td>4</td>\n",
       "      <td>6</td>\n",
       "      <td>10</td>\n",
       "      <td>0</td>\n",
       "    </tr>\n",
       "  </tbody>\n",
       "</table>\n",
       "<p>5 rows × 33 columns</p>\n",
       "</div>"
      ],
      "text/plain": [
       "  school sex  age address famsize Pstatus  Medu  Fedu     Mjob      Fjob  ...  \\\n",
       "0     GP   F   18       U     GT3       A     4     4  at_home   teacher  ...   \n",
       "1     GP   F   17       U     GT3       T     1     1  at_home     other  ...   \n",
       "2     GP   F   15       U     LE3       T     1     1  at_home     other  ...   \n",
       "3     GP   F   15       U     GT3       T     4     2   health  services  ...   \n",
       "4     GP   F   16       U     GT3       T     3     3    other     other  ...   \n",
       "\n",
       "  famrel freetime  goout  Dalc  Walc health absences  G1  G2 final_grade  \n",
       "0      4        3      4     1     1      3        6   5   6           2  \n",
       "1      5        3      3     1     1      3        4   5   5           2  \n",
       "2      4        3      2     2     3      3       10   7   8           0  \n",
       "3      3        2      2     1     1      5        2  15  14           1  \n",
       "4      4        3      2     1     2      5        4   6  10           0  \n",
       "\n",
       "[5 rows x 33 columns]"
      ]
     },
     "execution_count": 37,
     "metadata": {},
     "output_type": "execute_result"
    }
   ],
   "source": [
    "class_le = LabelEncoder()\n",
    "df_copy['final_grade'] = class_le.fit_transform(df_copy['final_grade'].values)\n",
    "df_copy.head()"
   ]
  },
  {
   "cell_type": "markdown",
   "metadata": {},
   "source": [
    "Lastly, we need to account for nominal features from our data. To do this, one-hot encoding or the nifty **get_dummies** function of pandas will be used. With this, we can create a new dummy feature for each unique value in each nominal feature column. In doing this, multicollinearity can be introduced and this is mitigated by the parameter **drop_first**. By setting it into True, the first column of the resulting dummy variables will be dropped and with this, the important information will still be retained."
   ]
  },
  {
   "cell_type": "code",
   "execution_count": 38,
   "metadata": {
    "ExecuteTime": {
     "end_time": "2019-11-23T15:50:09.775196Z",
     "start_time": "2019-11-23T15:50:09.736715Z"
    }
   },
   "outputs": [],
   "source": [
    "df_dummy = pd.get_dummies(df_copy, drop_first=True)"
   ]
  },
  {
   "cell_type": "code",
   "execution_count": 39,
   "metadata": {
    "ExecuteTime": {
     "end_time": "2019-11-23T15:50:09.780156Z",
     "start_time": "2019-11-23T15:50:09.776163Z"
    }
   },
   "outputs": [
    {
     "name": "stdout",
     "output_type": "stream",
     "text": [
      "['age', 'Medu', 'Fedu', 'traveltime', 'studytime', 'failures', 'famrel', 'freetime', 'goout', 'Dalc', 'Walc', 'health', 'absences', 'G1', 'G2', 'final_grade', 'school_MS', 'sex_M', 'address_U', 'famsize_LE3', 'Pstatus_T', 'Mjob_health', 'Mjob_other', 'Mjob_services', 'Mjob_teacher', 'Fjob_health', 'Fjob_other', 'Fjob_services', 'Fjob_teacher', 'reason_home', 'reason_other', 'reason_reputation', 'guardian_mother', 'guardian_other', 'schoolsup_yes', 'famsup_yes', 'paid_yes', 'activities_yes', 'nursery_yes', 'higher_yes', 'internet_yes', 'romantic_yes']\n"
     ]
    }
   ],
   "source": [
    "print(list(df_dummy.columns))"
   ]
  },
  {
   "cell_type": "markdown",
   "metadata": {},
   "source": [
    "# 4.1 Proportional Chance Criterion"
   ]
  },
  {
   "cell_type": "markdown",
   "metadata": {},
   "source": [
    "An important part of data processing involves checking for the proportional chance criterion of the dataset. In doing so, the PCC computes the highest possible random chance of classifying data without explicit mathematical model other than population counts. In general, a classifier machine learning model is considered highly succcesful when the test accuracy exceeds 1.25 𝐏𝐶𝐶"
   ]
  },
  {
   "cell_type": "code",
   "execution_count": 40,
   "metadata": {
    "ExecuteTime": {
     "end_time": "2019-11-23T15:50:09.915673Z",
     "start_time": "2019-11-23T15:50:09.781155Z"
    }
   },
   "outputs": [
    {
     "name": "stdout",
     "output_type": "stream",
     "text": [
      "Division per class:      0\n",
      "2  230\n",
      "0  610\n",
      "1  204\n",
      "\n",
      "1.25 * Proportion Chance Criterion: 53.51415128961702%\n"
     ]
    },
    {
     "data": {
      "image/png": "[encoded data removed]",
      "text/plain": [
       "<Figure size 432x288 with 1 Axes>"
      ]
     },
     "metadata": {
      "needs_background": "light"
     },
     "output_type": "display_data"
    }
   ],
   "source": [
    "state_counts = Counter(df_dummy['final_grade'])\n",
    "df_state = pd.DataFrame.from_dict(state_counts, orient='index')\n",
    "df_state.plot(kind='bar')\n",
    "\n",
    "num = (df_state[0]/df_state[0].sum())**2\n",
    "print(\"Division per class: {}\\n\".format(df_state))\n",
    "print(\"1.25 * Proportion Chance Criterion: {}%\".format(1.25*100*num.sum()))"
   ]
  },
  {
   "cell_type": "markdown",
   "metadata": {},
   "source": [
    "Observing from the results, our machine learning model should beat atleast **53.5%** accurate in order to be a highly successful machine learning model."
   ]
  },
  {
   "cell_type": "markdown",
   "metadata": {},
   "source": [
    "# 5. Classification"
   ]
  },
  {
   "cell_type": "markdown",
   "metadata": {},
   "source": [
    "In order to predict the student's final grades, several machine learning algorithms will be used for classification. In performing these algorithms, GridSearch will be used to identify the best possible parameters. **GridSearchCV** does an exhaustive search over the specified parameter values for an estimator. The parameters of the estimator used to apply these methods are optimized by cross-validated grid-search over a parameter grid. With this, we hope to know the best possible algorithm to use for the study.\n",
    "\n",
    "The following are the machine learning algorithms that were used.\n",
    "* **K-Nearest Neighbor (kNN)** - According to https://www.saedsayad.com, K nearest neighbors is a simple algorithm that stores all available cases and classifies new cases based on a similarity measure (e.g., distance functions). The main advantage of KNN is that it is non-parametric and that it is easy to understand while its main disadvantage is that it memorizes the system which makes it difficult to interpret.\n",
    "* **Logistic Regression** - Logistic Regression is a linear model that is used for classification. If used on its own, using a linear model is prone to overfitting thus needing for regularization. In short, regularization helps prevent overfitting and is implemented by two regularization methods: ***Ridge/L2 Regularization*** and ***Lasso/L1 Regularization***. \n",
    "* **Support Vector Machines** - For support vector machines, the main goal is to maximize the margin. It basically uses support vectors to improve generalization and robustness of linear classification. Regularization (L1 and L2) will also be used for the purposes of preventing overfitting.\n",
    "* **Random Forest Classifier** - Random Forest Classifier (RFC) is an information-based machine learning algorithm which basically takes the average of many decision trees. The main advantage of an RFC is that it is invariant to scaling of data while its main disadvantage is that the predictions made were not easy to understand.\n",
    "* **Gradient Boosting Algorithm** - By definition, Boosting is a method of converting weak learners into strong learners. Gradient Boosting is considered as one of the most powerful machine learning algorithms for building predictive models. The main disadvantage of using Gradient Boosting is that it can easily be altered by changes in the training set or learning rate.\n",
    "* **AdaBoost Classifier** - AdaBoost was one of the first boosting algorithms. Known as ***Adaptive Boosting***, the main idea for AdaBoost Classifier is to set weights to both classifiers and data points (samples) in a way that forces classifiers to concentrate on observations that are difficult to correctly classify. The AdaBoost classifier aims to convert a set of weak classifiers into a strong one."
   ]
  },
  {
   "cell_type": "markdown",
   "metadata": {},
   "source": [
    "## 5.1 AdaBoost Classifier"
   ]
  },
  {
   "cell_type": "markdown",
   "metadata": {},
   "source": [
    "According to www.towardsdatascience.com, the AdaBoost Algorithm begins by training a decision tree in which each observation is assigned an equal weight. After evaluating the first tree, we increase the weights of those observations that are difficult to classify and lower the weights for those that are easy to classify. The second tree is therefore grown on this weighted data. Here, the idea is to improve upon the predictions of the first tree. Our new model is therefore ***Tree 1 + Tree 2***. We then compute the classification error from this new 2-tree ensemble model and grow a third tree to predict the revised residuals. We repeat this process for a specified number of iterations. Subsequent trees help us to classify observations that are not well classified by the previous trees. Predictions of the final ensemble model is therefore the weighted sum of the predictions made by the previous tree models.\n",
    "\n",
    "To make the discussion short, what the AdaBoost Classifier does is it basically combines predictors by adaptively weighting the difficult to classify samples more heavily. From there, predictions will be made based on the predictions of the various weak learners from the ensemble.\n",
    "\n",
    "For AdaBoost Classifiers, there are three important parameters to consider and these are:\n",
    "* base_estimator - The parameter base_estimator is used to provide the learning algorithm to train the weak learners in the ensemble. By default, a decision tree learning algorithm is used as the value for the base_estimator with a max_depth of 1. One can tweak this parameter in order to get the best possible perfomance of the classifier.\n",
    "* n_estimator - This parameter is used to define the number of models to iteratively train.\n",
    "* learning_rate -  This is the contribution of each model to the weights and defaults to 1.\n",
    "All these parameters except for the base_estimator will be used by the GridSearchCV function in order to have the best possible performance among all parameter grids."
   ]
  },
  {
   "cell_type": "code",
   "execution_count": 41,
   "metadata": {
    "ExecuteTime": {
     "end_time": "2019-11-23T15:50:09.927695Z",
     "start_time": "2019-11-23T15:50:09.916671Z"
    }
   },
   "outputs": [],
   "source": [
    "cl1 = KNeighborsClassifier(n_jobs=-1)\n",
    "cl2 = LogisticRegression(penalty='l1', max_iter=1000,\n",
    "                         solver='liblinear', n_jobs=-1)\n",
    "cl3 = LogisticRegression(penalty='l2', max_iter=1000, n_jobs=-1)\n",
    "cl4 = LinearSVC(penalty='l1', dual=False, max_iter=10000)\n",
    "cl5 = LinearSVC(penalty='l2', max_iter=10000)\n",
    "cl6 = SVC(kernel='rbf', )\n",
    "#cl7 = SVC(kernel='poly', degree=3)\n",
    "cl8 = RandomForestClassifier(n_jobs=-1)\n",
    "cl9 = GradientBoostingClassifier()\n",
    "cl10 = AdaBoostClassifier(DecisionTreeClassifier(max_depth=1))\n",
    "\n",
    "\n",
    "kneighbors = range(1, 31)\n",
    "C_list = np.logspace(-5, 5, num=10)\n",
    "gamma_list = np.logspace(-5, 5, num=10)\n",
    "max_depthlist = [3, 4, 6, 8]\n",
    "max_featureslist = [1, 2, 3, 4]\n",
    "n_estimatorslist = [100, 200, 300, 400]\n",
    "learningrate_list = [.2, 0.1, 0.02, 0.01]\n",
    "\n",
    "estimators = [('KNN', cl1, {'n_neighbors': kneighbors}),\n",
    "              ('Logistic Regression (L1)', cl2, {'C': C_list}),\n",
    "              ('Logistic Regression (L2)', cl3, {'C': C_list}),\n",
    "              ('Linear SVM (L1)', cl4, {'C': C_list}),\n",
    "              ('Linear SVM (L2)', cl5, {'C': C_list}),\n",
    "              ('NonLinear SVM (RBF)', cl6, {'C': C_list, 'gamma': gamma_list}),\n",
    "              ('Random Forest Classifier', cl8, {'n_estimators': n_estimatorslist,\n",
    "                                                 'max_depth': max_depthlist,\n",
    "                                                 'max_features': max_featureslist}),\n",
    "              ('Gradient Boosting Classifier', cl9, {'n_estimators': n_estimatorslist,\n",
    "                                                     'max_depth': max_depthlist,\n",
    "                                                     'learning_rate': learningrate_list}),\n",
    "              ('AdaBoost Classifier', cl10, {'n_estimators': n_estimatorslist,\n",
    "                                             'learning_rate': learningrate_list})]"
   ]
  },
  {
   "cell_type": "code",
   "execution_count": 42,
   "metadata": {
    "ExecuteTime": {
     "end_time": "2019-11-23T15:50:09.941659Z",
     "start_time": "2019-11-23T15:50:09.930686Z"
    }
   },
   "outputs": [],
   "source": [
    "X_clean = df_dummy"
   ]
  },
  {
   "cell_type": "code",
   "execution_count": 43,
   "metadata": {
    "ExecuteTime": {
     "end_time": "2019-11-23T15:50:09.955621Z",
     "start_time": "2019-11-23T15:50:09.945648Z"
    }
   },
   "outputs": [],
   "source": [
    "X = X_clean.drop('final_grade', axis=1)\n",
    "y = X_clean['final_grade']"
   ]
  },
  {
   "cell_type": "markdown",
   "metadata": {},
   "source": [
    "## 5.2 Feature Selection "
   ]
  },
  {
   "cell_type": "markdown",
   "metadata": {},
   "source": [
    "From the correlation heatmap described earlier, we can clearly see some correlation among features. In order for the models to have an efficient and faster training time, we need to select the relevant features which will contribute to the prediction of the machine learning models. For feature selection, we use the ***LassoCV*** in order to identify which features are important. Together with ***SelectFromModel***, we can select the features based on importance weights."
   ]
  },
  {
   "cell_type": "code",
   "execution_count": 31,
   "metadata": {
    "ExecuteTime": {
     "end_time": "2019-11-01T12:06:11.341301Z",
     "start_time": "2019-11-01T12:06:11.273486Z"
    }
   },
   "outputs": [
    {
     "data": {
      "text/plain": [
       "Index(['age', 'Medu', 'failures', 'Walc', 'health', 'absences', 'G2'], dtype='object')"
      ]
     },
     "execution_count": 31,
     "metadata": {},
     "output_type": "execute_result"
    }
   ],
   "source": [
    "from sklearn.feature_selection import SelectFromModel\n",
    "from sklearn.linear_model import LassoCV\n",
    "# We use the base estimator LassoCV\n",
    "clf = LassoCV(cv=5)\n",
    "\n",
    "# Set a minimum threshold of 0.70\n",
    "sfm = SelectFromModel(clf)\n",
    "sfm.fit(X, y)\n",
    "n_features = sfm.transform(X).shape[1]\n",
    "\n",
    "# Extracting the index of important features\n",
    "feature_idx = sfm.get_support()\n",
    "\n",
    "# Using the index to print the names of the important variables\n",
    "new_cols = X.columns[feature_idx]\n",
    "new_cols"
   ]
  },
  {
   "cell_type": "code",
   "execution_count": 32,
   "metadata": {
    "ExecuteTime": {
     "end_time": "2019-11-01T12:06:12.228343Z",
     "start_time": "2019-11-01T12:06:12.218370Z"
    }
   },
   "outputs": [
    {
     "data": {
      "text/html": [
       "<div>\n",
       "<style scoped>\n",
       "    .dataframe tbody tr th:only-of-type {\n",
       "        vertical-align: middle;\n",
       "    }\n",
       "\n",
       "    .dataframe tbody tr th {\n",
       "        vertical-align: top;\n",
       "    }\n",
       "\n",
       "    .dataframe thead th {\n",
       "        text-align: right;\n",
       "    }\n",
       "</style>\n",
       "<table border=\"1\" class=\"dataframe\">\n",
       "  <thead>\n",
       "    <tr style=\"text-align: right;\">\n",
       "      <th></th>\n",
       "      <th>age</th>\n",
       "      <th>Medu</th>\n",
       "      <th>failures</th>\n",
       "      <th>Walc</th>\n",
       "      <th>health</th>\n",
       "      <th>absences</th>\n",
       "      <th>G2</th>\n",
       "    </tr>\n",
       "  </thead>\n",
       "  <tbody>\n",
       "    <tr>\n",
       "      <th>0</th>\n",
       "      <td>18</td>\n",
       "      <td>4</td>\n",
       "      <td>0</td>\n",
       "      <td>1</td>\n",
       "      <td>3</td>\n",
       "      <td>6</td>\n",
       "      <td>6</td>\n",
       "    </tr>\n",
       "    <tr>\n",
       "      <th>1</th>\n",
       "      <td>17</td>\n",
       "      <td>1</td>\n",
       "      <td>0</td>\n",
       "      <td>1</td>\n",
       "      <td>3</td>\n",
       "      <td>4</td>\n",
       "      <td>5</td>\n",
       "    </tr>\n",
       "    <tr>\n",
       "      <th>2</th>\n",
       "      <td>15</td>\n",
       "      <td>1</td>\n",
       "      <td>3</td>\n",
       "      <td>3</td>\n",
       "      <td>3</td>\n",
       "      <td>10</td>\n",
       "      <td>8</td>\n",
       "    </tr>\n",
       "    <tr>\n",
       "      <th>3</th>\n",
       "      <td>15</td>\n",
       "      <td>4</td>\n",
       "      <td>0</td>\n",
       "      <td>1</td>\n",
       "      <td>5</td>\n",
       "      <td>2</td>\n",
       "      <td>14</td>\n",
       "    </tr>\n",
       "    <tr>\n",
       "      <th>4</th>\n",
       "      <td>16</td>\n",
       "      <td>3</td>\n",
       "      <td>0</td>\n",
       "      <td>2</td>\n",
       "      <td>5</td>\n",
       "      <td>4</td>\n",
       "      <td>10</td>\n",
       "    </tr>\n",
       "  </tbody>\n",
       "</table>\n",
       "</div>"
      ],
      "text/plain": [
       "   age  Medu  failures  Walc  health  absences  G2\n",
       "0   18     4         0     1       3         6   6\n",
       "1   17     1         0     1       3         4   5\n",
       "2   15     1         3     3       3        10   8\n",
       "3   15     4         0     1       5         2  14\n",
       "4   16     3         0     2       5         4  10"
      ]
     },
     "execution_count": 32,
     "metadata": {},
     "output_type": "execute_result"
    }
   ],
   "source": [
    "X = X[new_cols]\n",
    "X.head()"
   ]
  },
  {
   "cell_type": "markdown",
   "metadata": {},
   "source": [
    "With this, it can be assumed that **age, Medu, failures, Walc, health, absences and G2** are the most important features which will contribute to the prediction of the students' final academic performance."
   ]
  },
  {
   "cell_type": "markdown",
   "metadata": {},
   "source": [
    "## 5.3 Classification Proper"
   ]
  },
  {
   "cell_type": "code",
   "execution_count": 49,
   "metadata": {
    "ExecuteTime": {
     "end_time": "2019-11-01T12:54:44.639218Z",
     "start_time": "2019-11-01T12:54:44.630242Z"
    }
   },
   "outputs": [],
   "source": [
    "X_train, X_val, y_train, y_val = train_test_split(X, y, test_size=0.25,\n",
    "                                                  random_state=15)\n",
    "scaler = MinMaxScaler()\n",
    "X_train = scaler.fit_transform(X_train)\n",
    "X_val = scaler.transform(X_val)"
   ]
  },
  {
   "cell_type": "code",
   "execution_count": 50,
   "metadata": {
    "ExecuteTime": {
     "end_time": "2019-11-01T12:56:19.635437Z",
     "start_time": "2019-11-01T12:54:44.838342Z"
    }
   },
   "outputs": [
    {
     "name": "stdout",
     "output_type": "stream",
     "text": [
      "Training ('KNN', KNeighborsClassifier(algorithm='auto', leaf_size=30, metric='minkowski',\n",
      "                     metric_params=None, n_jobs=-1, n_neighbors=5, p=2,\n",
      "                     weights='uniform'), {'n_neighbors': range(1, 31)})\n",
      "\n",
      "Training ('Logistic Regression (L1)', LogisticRegression(C=1.0, class_weight=None, dual=False, fit_intercept=True,\n",
      "                   intercept_scaling=1, l1_ratio=None, max_iter=1000,\n",
      "                   multi_class='warn', n_jobs=-1, penalty='l1',\n",
      "                   random_state=None, solver='liblinear', tol=0.0001, verbose=0,\n",
      "                   warm_start=False), {'C': array([1.00000000e-05, 1.29154967e-04, 1.66810054e-03, 2.15443469e-02,\n",
      "       2.78255940e-01, 3.59381366e+00, 4.64158883e+01, 5.99484250e+02,\n",
      "       7.74263683e+03, 1.00000000e+05])})\n",
      "\n",
      "Training ('Logistic Regression (L2)', LogisticRegression(C=1.0, class_weight=None, dual=False, fit_intercept=True,\n",
      "                   intercept_scaling=1, l1_ratio=None, max_iter=1000,\n",
      "                   multi_class='warn', n_jobs=-1, penalty='l2',\n",
      "                   random_state=None, solver='warn', tol=0.0001, verbose=0,\n",
      "                   warm_start=False), {'C': array([1.00000000e-05, 1.29154967e-04, 1.66810054e-03, 2.15443469e-02,\n",
      "       2.78255940e-01, 3.59381366e+00, 4.64158883e+01, 5.99484250e+02,\n",
      "       7.74263683e+03, 1.00000000e+05])})\n",
      "\n",
      "Training ('Linear SVM (L1)', LinearSVC(C=1.0, class_weight=None, dual=False, fit_intercept=True,\n",
      "          intercept_scaling=1, loss='squared_hinge', max_iter=10000,\n",
      "          multi_class='ovr', penalty='l1', random_state=None, tol=0.0001,\n",
      "          verbose=0), {'C': array([1.00000000e-05, 1.29154967e-04, 1.66810054e-03, 2.15443469e-02,\n",
      "       2.78255940e-01, 3.59381366e+00, 4.64158883e+01, 5.99484250e+02,\n",
      "       7.74263683e+03, 1.00000000e+05])})\n",
      "\n",
      "Training ('Linear SVM (L2)', LinearSVC(C=1.0, class_weight=None, dual=True, fit_intercept=True,\n",
      "          intercept_scaling=1, loss='squared_hinge', max_iter=10000,\n",
      "          multi_class='ovr', penalty='l2', random_state=None, tol=0.0001,\n",
      "          verbose=0), {'C': array([1.00000000e-05, 1.29154967e-04, 1.66810054e-03, 2.15443469e-02,\n",
      "       2.78255940e-01, 3.59381366e+00, 4.64158883e+01, 5.99484250e+02,\n",
      "       7.74263683e+03, 1.00000000e+05])})\n",
      "\n",
      "Training ('NonLinear SVM (RBF)', SVC(C=1.0, cache_size=200, class_weight=None, coef0=0.0,\n",
      "    decision_function_shape='ovr', degree=3, gamma='auto_deprecated',\n",
      "    kernel='rbf', max_iter=-1, probability=False, random_state=None,\n",
      "    shrinking=True, tol=0.001, verbose=False), {'C': array([1.00000000e-05, 1.29154967e-04, 1.66810054e-03, 2.15443469e-02,\n",
      "       2.78255940e-01, 3.59381366e+00, 4.64158883e+01, 5.99484250e+02,\n",
      "       7.74263683e+03, 1.00000000e+05]), 'gamma': array([1.00000000e-05, 1.29154967e-04, 1.66810054e-03, 2.15443469e-02,\n",
      "       2.78255940e-01, 3.59381366e+00, 4.64158883e+01, 5.99484250e+02,\n",
      "       7.74263683e+03, 1.00000000e+05])})\n",
      "\n",
      "Training ('Random Forest Classifier', RandomForestClassifier(bootstrap=True, class_weight=None, criterion='gini',\n",
      "                       max_depth=None, max_features='auto', max_leaf_nodes=None,\n",
      "                       min_impurity_decrease=0.0, min_impurity_split=None,\n",
      "                       min_samples_leaf=1, min_samples_split=2,\n",
      "                       min_weight_fraction_leaf=0.0, n_estimators='warn',\n",
      "                       n_jobs=-1, oob_score=False, random_state=None, verbose=0,\n",
      "                       warm_start=False), {'n_estimators': [100, 200, 300, 400], 'max_depth': [3, 4, 6, 8], 'max_features': [1, 2, 3, 4]})\n",
      "\n",
      "Training ('Gradient Boosting Classifier', GradientBoostingClassifier(criterion='friedman_mse', init=None,\n",
      "                           learning_rate=0.1, loss='deviance', max_depth=3,\n",
      "                           max_features=None, max_leaf_nodes=None,\n",
      "                           min_impurity_decrease=0.0, min_impurity_split=None,\n",
      "                           min_samples_leaf=1, min_samples_split=2,\n",
      "                           min_weight_fraction_leaf=0.0, n_estimators=100,\n",
      "                           n_iter_no_change=None, presort='auto',\n",
      "                           random_state=None, subsample=1.0, tol=0.0001,\n",
      "                           validation_fraction=0.1, verbose=0,\n",
      "                           warm_start=False), {'n_estimators': [100, 200, 300, 400], 'max_depth': [3, 4, 6, 8], 'learning_rate': [0.2, 0.1, 0.02, 0.01]})\n",
      "\n",
      "Training ('AdaBoost Classifier', AdaBoostClassifier(algorithm='SAMME.R',\n",
      "                   base_estimator=DecisionTreeClassifier(class_weight=None,\n",
      "                                                         criterion='gini',\n",
      "                                                         max_depth=1,\n",
      "                                                         max_features=None,\n",
      "                                                         max_leaf_nodes=None,\n",
      "                                                         min_impurity_decrease=0.0,\n",
      "                                                         min_impurity_split=None,\n",
      "                                                         min_samples_leaf=1,\n",
      "                                                         min_samples_split=2,\n",
      "                                                         min_weight_fraction_leaf=0.0,\n",
      "                                                         presort=False,\n",
      "                                                         random_state=None,\n",
      "                                                         splitter='best'),\n",
      "                   learning_rate=1.0, n_estimators=50, random_state=None), {'n_estimators': [100, 200, 300, 400], 'learning_rate': [0.2, 0.1, 0.02, 0.01]})\n",
      "\n"
     ]
    }
   ],
   "source": [
    "models = {}\n",
    "for est in estimators:\n",
    "    print(f'Training {est}\\n')\n",
    "    gs_cv = GridSearchCV(est[1], param_grid=est[2], n_jobs=-1)\n",
    "    gs_cv.fit(X_train, y_train)\n",
    "    models[est[0]] = gs_cv"
   ]
  },
  {
   "cell_type": "code",
   "execution_count": 51,
   "metadata": {
    "ExecuteTime": {
     "end_time": "2019-11-01T12:56:20.400777Z",
     "start_time": "2019-11-01T12:56:19.636309Z"
    }
   },
   "outputs": [],
   "source": [
    "cols = ['Machine Learning Method', 'Training Accuracy', 'Test Accuracy',\n",
    "        'Best Parameter', 'Top Predictor']\n",
    "df2 = pd.DataFrame(columns=cols)\n",
    "\n",
    "for i, m in enumerate(models):\n",
    "    try:\n",
    "        top = X.columns[np.argmax(\n",
    "            np.abs(models[m].best_estimator_.coef_.T.mean(axis=1)))]\n",
    "    except AttributeError:\n",
    "        try:\n",
    "            top = X.columns[\n",
    "                np.argmax(np.abs(models[m].best_estimator_.feature_importances_))]\n",
    "        except AttributeError:\n",
    "            top = np.nan\n",
    "    except AttributeError:\n",
    "        top = np.nan\n",
    "\n",
    "    df2.loc[i] = [m,\n",
    "                  models[m].best_estimator_.score(X_train, y_train),\n",
    "                  models[m].best_estimator_.score(X_val, y_val),\n",
    "                  models[m].best_params_,\n",
    "                  top]"
   ]
  },
  {
   "cell_type": "markdown",
   "metadata": {},
   "source": [
    "# 6. Analysis of Results"
   ]
  },
  {
   "cell_type": "code",
   "execution_count": 52,
   "metadata": {
    "ExecuteTime": {
     "end_time": "2019-11-01T12:56:20.414738Z",
     "start_time": "2019-11-01T12:56:20.402771Z"
    }
   },
   "outputs": [
    {
     "data": {
      "text/html": [
       "<div>\n",
       "<style scoped>\n",
       "    .dataframe tbody tr th:only-of-type {\n",
       "        vertical-align: middle;\n",
       "    }\n",
       "\n",
       "    .dataframe tbody tr th {\n",
       "        vertical-align: top;\n",
       "    }\n",
       "\n",
       "    .dataframe thead th {\n",
       "        text-align: right;\n",
       "    }\n",
       "</style>\n",
       "<table border=\"1\" class=\"dataframe\">\n",
       "  <thead>\n",
       "    <tr style=\"text-align: right;\">\n",
       "      <th></th>\n",
       "      <th>Machine Learning Method</th>\n",
       "      <th>Training Accuracy</th>\n",
       "      <th>Test Accuracy</th>\n",
       "      <th>Best Parameter</th>\n",
       "      <th>Top Predictor</th>\n",
       "    </tr>\n",
       "  </thead>\n",
       "  <tbody>\n",
       "    <tr>\n",
       "      <th>0</th>\n",
       "      <td>KNN</td>\n",
       "      <td>0.813538</td>\n",
       "      <td>0.735632</td>\n",
       "      <td>{'n_neighbors': 7}</td>\n",
       "      <td>NaN</td>\n",
       "    </tr>\n",
       "    <tr>\n",
       "      <th>1</th>\n",
       "      <td>Logistic Regression (L1)</td>\n",
       "      <td>0.883780</td>\n",
       "      <td>0.877395</td>\n",
       "      <td>{'C': 3.593813663804626}</td>\n",
       "      <td>G2</td>\n",
       "    </tr>\n",
       "    <tr>\n",
       "      <th>2</th>\n",
       "      <td>Logistic Regression (L2)</td>\n",
       "      <td>0.882503</td>\n",
       "      <td>0.873563</td>\n",
       "      <td>{'C': 599.4842503189421}</td>\n",
       "      <td>G2</td>\n",
       "    </tr>\n",
       "    <tr>\n",
       "      <th>3</th>\n",
       "      <td>Linear SVM (L1)</td>\n",
       "      <td>0.877395</td>\n",
       "      <td>0.873563</td>\n",
       "      <td>{'C': 3.593813663804626}</td>\n",
       "      <td>G2</td>\n",
       "    </tr>\n",
       "    <tr>\n",
       "      <th>4</th>\n",
       "      <td>Linear SVM (L2)</td>\n",
       "      <td>0.878672</td>\n",
       "      <td>0.869732</td>\n",
       "      <td>{'C': 599.4842503189421}</td>\n",
       "      <td>G2</td>\n",
       "    </tr>\n",
       "    <tr>\n",
       "      <th>5</th>\n",
       "      <td>NonLinear SVM (RBF)</td>\n",
       "      <td>0.886335</td>\n",
       "      <td>0.869732</td>\n",
       "      <td>{'C': 100000.0, 'gamma': 0.0001291549665014884}</td>\n",
       "      <td>NaN</td>\n",
       "    </tr>\n",
       "    <tr>\n",
       "      <th>6</th>\n",
       "      <td>Random Forest Classifier</td>\n",
       "      <td>0.886335</td>\n",
       "      <td>0.877395</td>\n",
       "      <td>{'max_depth': 3, 'max_features': 4, 'n_estimat...</td>\n",
       "      <td>G2</td>\n",
       "    </tr>\n",
       "    <tr>\n",
       "      <th>7</th>\n",
       "      <td>Gradient Boosting Classifier</td>\n",
       "      <td>0.918263</td>\n",
       "      <td>0.873563</td>\n",
       "      <td>{'learning_rate': 0.01, 'max_depth': 4, 'n_est...</td>\n",
       "      <td>G2</td>\n",
       "    </tr>\n",
       "    <tr>\n",
       "      <th>8</th>\n",
       "      <td>AdaBoost Classifier</td>\n",
       "      <td>0.614304</td>\n",
       "      <td>0.662835</td>\n",
       "      <td>{'learning_rate': 0.2, 'n_estimators': 100}</td>\n",
       "      <td>Walc</td>\n",
       "    </tr>\n",
       "  </tbody>\n",
       "</table>\n",
       "</div>"
      ],
      "text/plain": [
       "        Machine Learning Method  Training Accuracy  Test Accuracy  \\\n",
       "0                           KNN           0.813538       0.735632   \n",
       "1      Logistic Regression (L1)           0.883780       0.877395   \n",
       "2      Logistic Regression (L2)           0.882503       0.873563   \n",
       "3               Linear SVM (L1)           0.877395       0.873563   \n",
       "4               Linear SVM (L2)           0.878672       0.869732   \n",
       "5           NonLinear SVM (RBF)           0.886335       0.869732   \n",
       "6      Random Forest Classifier           0.886335       0.877395   \n",
       "7  Gradient Boosting Classifier           0.918263       0.873563   \n",
       "8           AdaBoost Classifier           0.614304       0.662835   \n",
       "\n",
       "                                      Best Parameter Top Predictor  \n",
       "0                                 {'n_neighbors': 7}           NaN  \n",
       "1                           {'C': 3.593813663804626}            G2  \n",
       "2                           {'C': 599.4842503189421}            G2  \n",
       "3                           {'C': 3.593813663804626}            G2  \n",
       "4                           {'C': 599.4842503189421}            G2  \n",
       "5    {'C': 100000.0, 'gamma': 0.0001291549665014884}           NaN  \n",
       "6  {'max_depth': 3, 'max_features': 4, 'n_estimat...            G2  \n",
       "7  {'learning_rate': 0.01, 'max_depth': 4, 'n_est...            G2  \n",
       "8        {'learning_rate': 0.2, 'n_estimators': 100}          Walc  "
      ]
     },
     "execution_count": 52,
     "metadata": {},
     "output_type": "execute_result"
    }
   ],
   "source": [
    "df2"
   ]
  },
  {
   "cell_type": "markdown",
   "metadata": {},
   "source": [
    "Based on the results of the machine learning algorithms, it can be concluded that the **Gradient Boosting** classifier was the best machine learning algorithm for building the model by having a test accuracy of **87.4%**. This conclusion also takes into account the tendency of a classifier to either underfit or overfit. By comparing GBM with other classifiers, it can be seen that it is not underfitting as compared to others. The top predictor for Gradient Boosting is the second period grading (G2) of a student. This might be because a student's second grading is a huge mental factor to a student's capability to perform. This is why, early mitigation of performance is a must in order to have good academic performance in the future."
   ]
  },
  {
   "cell_type": "markdown",
   "metadata": {},
   "source": [
    "## 6.1 Feature Importance"
   ]
  },
  {
   "cell_type": "markdown",
   "metadata": {},
   "source": [
    "In order to know what are the most important factors that can affect the student's performance, we use the feature importance method provided by ensemble methods. By using also the best parameters given by the GridSearchCV function, we can determine the most important features. "
   ]
  },
  {
   "cell_type": "code",
   "execution_count": 53,
   "metadata": {
    "ExecuteTime": {
     "end_time": "2019-11-01T12:56:20.772366Z",
     "start_time": "2019-11-01T12:56:20.416733Z"
    }
   },
   "outputs": [
    {
     "name": "stdout",
     "output_type": "stream",
     "text": [
      "0.8620689655172413\n"
     ]
    },
    {
     "data": {
      "image/png": "[encoded data removed]",
      "text/plain": [
       "<Figure size 432x288 with 1 Axes>"
      ]
     },
     "metadata": {
      "needs_background": "light"
     },
     "output_type": "display_data"
    }
   ],
   "source": [
    "model = RandomForestClassifier(max_depth=3, max_features=4, n_estimators=200)\n",
    "model.fit(X_train, y_train)\n",
    "print(model.score(X_val, y_val))\n",
    "# print(model.feature_importances_) #use inbuilt class feature_importances of tree based classifiers\n",
    "# plot graph of feature importances for better visualization\n",
    "feat_importances = pd.Series(model.feature_importances_, index=X.columns)\n",
    "feat_importances.nlargest(10).plot(kind='barh')\n",
    "plt.show()"
   ]
  },
  {
   "cell_type": "markdown",
   "metadata": {},
   "source": [
    "With this, it can be said that the second period grading was the most important factor in predicting a child's academic performance. Other important factors by ranking are the number of failures, Medu, absences, age, weekend alcohol consumptions and health. "
   ]
  },
  {
   "cell_type": "markdown",
   "metadata": {},
   "source": [
    "## 6.2 Confusion Matrix (Model Validation)"
   ]
  },
  {
   "cell_type": "code",
   "execution_count": 54,
   "metadata": {
    "ExecuteTime": {
     "end_time": "2019-11-01T12:56:21.154345Z",
     "start_time": "2019-11-01T12:56:20.774360Z"
    }
   },
   "outputs": [
    {
     "name": "stdout",
     "output_type": "stream",
     "text": [
      "Test Accuracy of 0.8735632183908046\n"
     ]
    },
    {
     "data": {
      "image/png": "[encoded data removed]",
      "text/plain": [
       "<Figure size 180x180 with 1 Axes>"
      ]
     },
     "metadata": {
      "needs_background": "light"
     },
     "output_type": "display_data"
    },
    {
     "name": "stdout",
     "output_type": "stream",
     "text": [
      "              precision    recall  f1-score   support\n",
      "\n",
      "           0       0.85      0.94      0.89       149\n",
      "           1       0.90      0.84      0.87        43\n",
      "           2       0.91      0.75      0.83        69\n",
      "\n",
      "    accuracy                           0.87       261\n",
      "   macro avg       0.89      0.84      0.86       261\n",
      "weighted avg       0.88      0.87      0.87       261\n",
      "\n"
     ]
    }
   ],
   "source": [
    "from sklearn.metrics import classification_report\n",
    "from sklearn.metrics import confusion_matrix\n",
    "model = GradientBoostingClassifier(\n",
    "    learning_rate=0.02, max_depth=4, n_estimators=100)\n",
    "model.fit(X_train, y_train)\n",
    "print('Test Accuracy of {}'.format(model.score(X_val, y_val)))\n",
    "\n",
    "#pipe_svc.fit(X_train, y_train)\n",
    "y_pred = model.predict(X_val)\n",
    "confmat = confusion_matrix(y_true=y_val, y_pred=y_pred)\n",
    "fig, ax = plt.subplots(figsize=(2.5, 2.5))\n",
    "ax.matshow(confmat, cmap=plt.cm.Blues, alpha=0.3)\n",
    "for i in range(confmat.shape[0]):\n",
    "    for j in range(confmat.shape[1]):\n",
    "        ax.text(x=j, y=i, s=confmat[i, j], va='center', ha='center')\n",
    "plt.xlabel('predicted label')\n",
    "plt.ylabel('true label')\n",
    "plt.show()\n",
    "\n",
    "print(classification_report(y_val, y_pred))"
   ]
  },
  {
   "cell_type": "markdown",
   "metadata": {},
   "source": [
    "Using a confusion matrix, model validation provided three metrics namely ***precision***, ***recall***, and ***f1-score***. In short summary, precision refers to the percentage of your results which are relevant while recall refers to the percentage of total relevant results correctly classified by your algorithm. The results of the model validation for the model gave numbers as high as 94% for recall and 91% for precision which is a good indicator of performance."
   ]
  },
  {
   "cell_type": "markdown",
   "metadata": {},
   "source": [
    "# 7. Summary and Conclusion"
   ]
  },
  {
   "cell_type": "markdown",
   "metadata": {},
   "source": [
    "To summarize the results, we briefly go back to what we have observed. The machine learning model that had the best results is the Gradient Boosting Classifier algorithm with a test accuracy of **87.35%**. The goal of this study is to first identify the factors that can affect a student's academic performance. The results showed that the previous grading contributes the most in the prediction of the final grade followed by the number of failures and the number of absences. Realistically speaking, a student's final grade is indicative of his/her learning from the previous grading period. We all know that education is progressive meaning you apply what you have learned in the past in order to learn something new. Since we knew that a student's behavior can affect their learning performance, we can still try to resolve some of the bad habits that has negative effects to his/her behavior. By preventing the development of these bad habits and the degradation of grades, we can uplift our child's school performance thus enhacing their mental capabilities.\n",
    "\n",
    "However, this study is only limited to caring about a child's academic performance and that we are not considering what they want and their happiness. This is a suggestion from me, wherein happiness must also be considered for it can reflect the state of well-being of a child both mentally and psychologically."
   ]
  },
  {
   "cell_type": "markdown",
   "metadata": {},
   "source": [
    "# 8. Recommendations"
   ]
  },
  {
   "cell_type": "markdown",
   "metadata": {},
   "source": [
    "* Explore the feasibility of including a happiness index for students\n",
    "* Explore the use of more powerful machine learning algorithms such as XGBoost and LightGBM"
   ]
  },
  {
   "cell_type": "markdown",
   "metadata": {},
   "source": [
    "# 9. References and Acknowledgements"
   ]
  },
  {
   "cell_type": "markdown",
   "metadata": {},
   "source": [
    "* Albon, C. (2017, December 20). Adaboost Classifier. Retrieved from www.chrisalbon.com: https://chrisalbon.com/machine_learning/trees_and_forests/adaboost_classifier/\n",
    "* Sharma, M. (2018, November 26). USING SCIKIT-LEARN IN PYTHON FOR FEATURE SELECTION. Retrieved from www.datasciencebeginners.com: https://datasciencebeginners.com/2018/11/26/using-scikit-learn-in-python-for-feature-selection/\n",
    "* Singh, H. (2018, November 4). Understanding Gradient Boosting Machines. Retrieved from www.towardsdatascience.com: https://towardsdatascience.com/understanding-gradient-boosting-machines-9be756fe76ab\n",
    "* Student Alcohol Consumption. (2016, October 19). Retrieved from www.kaggle.com: https://www.kaggle.com/uciml/student-alcohol-consumption\n",
    "* Machine Learning notebooks from Professor Chris Monterola\n",
    "* Machine Learning insights from Professor Erika Legara\n"
   ]
  }
 ],
 "metadata": {
  "kernelspec": {
   "display_name": "Python 3",
   "language": "python",
   "name": "python3"
  },
  "language_info": {
   "codemirror_mode": {
    "name": "ipython",
    "version": 3
   },
   "file_extension": ".py",
   "mimetype": "text/x-python",
   "name": "python",
   "nbconvert_exporter": "python",
   "pygments_lexer": "ipython3",
   "version": "3.7.6"
  }
 },
 "nbformat": 4,
 "nbformat_minor": 2
}
